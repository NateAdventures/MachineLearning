{
  "nbformat": 4,
  "nbformat_minor": 0,
  "metadata": {
    "colab": {
      "provenance": []
    },
    "kernelspec": {
      "name": "python3",
      "display_name": "Python 3"
    },
    "language_info": {
      "name": "python"
    },
    "widgets": {
      "application/vnd.jupyter.widget-state+json": {
        "7d1d21a7df80408aa0e480fbb3551fe2": {
          "model_module": "@jupyter-widgets/controls",
          "model_name": "VBoxModel",
          "model_module_version": "1.5.0",
          "state": {
            "_dom_classes": [],
            "_model_module": "@jupyter-widgets/controls",
            "_model_module_version": "1.5.0",
            "_model_name": "VBoxModel",
            "_view_count": null,
            "_view_module": "@jupyter-widgets/controls",
            "_view_module_version": "1.5.0",
            "_view_name": "VBoxView",
            "box_style": "",
            "children": [
              "IPY_MODEL_42d37c2be032454b8b68d2db89737d62"
            ],
            "layout": "IPY_MODEL_6f89a8fcbf7c4849939feaac1e732c9c"
          }
        },
        "b10504df61cb4901b9dbaf57d9484c59": {
          "model_module": "@jupyter-widgets/controls",
          "model_name": "HTMLModel",
          "model_module_version": "1.5.0",
          "state": {
            "_dom_classes": [],
            "_model_module": "@jupyter-widgets/controls",
            "_model_module_version": "1.5.0",
            "_model_name": "HTMLModel",
            "_view_count": null,
            "_view_module": "@jupyter-widgets/controls",
            "_view_module_version": "1.5.0",
            "_view_name": "HTMLView",
            "description": "",
            "description_tooltip": null,
            "layout": "IPY_MODEL_7c3c673cab654e318866b84984820a7a",
            "placeholder": "​",
            "style": "IPY_MODEL_aad620ae42cc40ca95126e52b3ce5854",
            "value": "<center> <img\nsrc=https://www.kaggle.com/static/images/site-logo.png\nalt='Kaggle'> <br> Create an API token from <a\nhref=\"https://www.kaggle.com/settings/account\" target=\"_blank\">your Kaggle\nsettings page</a> and paste it below along with your Kaggle username. <br> </center>"
          }
        },
        "f01c4ba9fb97400180f2c27fae325fe6": {
          "model_module": "@jupyter-widgets/controls",
          "model_name": "TextModel",
          "model_module_version": "1.5.0",
          "state": {
            "_dom_classes": [],
            "_model_module": "@jupyter-widgets/controls",
            "_model_module_version": "1.5.0",
            "_model_name": "TextModel",
            "_view_count": null,
            "_view_module": "@jupyter-widgets/controls",
            "_view_module_version": "1.5.0",
            "_view_name": "TextView",
            "continuous_update": true,
            "description": "Username:",
            "description_tooltip": null,
            "disabled": false,
            "layout": "IPY_MODEL_61b3bde2eeda459a8678840f59ac0b6d",
            "placeholder": "​",
            "style": "IPY_MODEL_b3aa94d717494a438fd8abb46aad3bf4",
            "value": "nathanclover93"
          }
        },
        "5fc4cc02ba4d4e458a0b89d41d428437": {
          "model_module": "@jupyter-widgets/controls",
          "model_name": "PasswordModel",
          "model_module_version": "1.5.0",
          "state": {
            "_dom_classes": [],
            "_model_module": "@jupyter-widgets/controls",
            "_model_module_version": "1.5.0",
            "_model_name": "PasswordModel",
            "_view_count": null,
            "_view_module": "@jupyter-widgets/controls",
            "_view_module_version": "1.5.0",
            "_view_name": "PasswordView",
            "continuous_update": true,
            "description": "Token:",
            "description_tooltip": null,
            "disabled": false,
            "layout": "IPY_MODEL_1e65f3e9bfa34f3fafa0783ac5eb333d",
            "placeholder": "​",
            "style": "IPY_MODEL_ac18468e503e444497e6ad1b5d979b19",
            "value": ""
          }
        },
        "993d53a264c64913899517fdb9f8a37a": {
          "model_module": "@jupyter-widgets/controls",
          "model_name": "ButtonModel",
          "model_module_version": "1.5.0",
          "state": {
            "_dom_classes": [],
            "_model_module": "@jupyter-widgets/controls",
            "_model_module_version": "1.5.0",
            "_model_name": "ButtonModel",
            "_view_count": null,
            "_view_module": "@jupyter-widgets/controls",
            "_view_module_version": "1.5.0",
            "_view_name": "ButtonView",
            "button_style": "",
            "description": "Login",
            "disabled": false,
            "icon": "",
            "layout": "IPY_MODEL_de127bd0c32e4c6ca3eb78ce3997ed7f",
            "style": "IPY_MODEL_a77d561190474a30917aaf3eb0c59c0d",
            "tooltip": ""
          }
        },
        "c887931c08084eeb8724ef828cf7b689": {
          "model_module": "@jupyter-widgets/controls",
          "model_name": "HTMLModel",
          "model_module_version": "1.5.0",
          "state": {
            "_dom_classes": [],
            "_model_module": "@jupyter-widgets/controls",
            "_model_module_version": "1.5.0",
            "_model_name": "HTMLModel",
            "_view_count": null,
            "_view_module": "@jupyter-widgets/controls",
            "_view_module_version": "1.5.0",
            "_view_name": "HTMLView",
            "description": "",
            "description_tooltip": null,
            "layout": "IPY_MODEL_5a148ac152e644fc8b445c90baaf9d11",
            "placeholder": "​",
            "style": "IPY_MODEL_b6c4d49be8774b95bb5aaae245e0296c",
            "value": "\n<b>Thank You</b></center>"
          }
        },
        "6f89a8fcbf7c4849939feaac1e732c9c": {
          "model_module": "@jupyter-widgets/base",
          "model_name": "LayoutModel",
          "model_module_version": "1.2.0",
          "state": {
            "_model_module": "@jupyter-widgets/base",
            "_model_module_version": "1.2.0",
            "_model_name": "LayoutModel",
            "_view_count": null,
            "_view_module": "@jupyter-widgets/base",
            "_view_module_version": "1.2.0",
            "_view_name": "LayoutView",
            "align_content": null,
            "align_items": "center",
            "align_self": null,
            "border": null,
            "bottom": null,
            "display": "flex",
            "flex": null,
            "flex_flow": "column",
            "grid_area": null,
            "grid_auto_columns": null,
            "grid_auto_flow": null,
            "grid_auto_rows": null,
            "grid_column": null,
            "grid_gap": null,
            "grid_row": null,
            "grid_template_areas": null,
            "grid_template_columns": null,
            "grid_template_rows": null,
            "height": null,
            "justify_content": null,
            "justify_items": null,
            "left": null,
            "margin": null,
            "max_height": null,
            "max_width": null,
            "min_height": null,
            "min_width": null,
            "object_fit": null,
            "object_position": null,
            "order": null,
            "overflow": null,
            "overflow_x": null,
            "overflow_y": null,
            "padding": null,
            "right": null,
            "top": null,
            "visibility": null,
            "width": "50%"
          }
        },
        "7c3c673cab654e318866b84984820a7a": {
          "model_module": "@jupyter-widgets/base",
          "model_name": "LayoutModel",
          "model_module_version": "1.2.0",
          "state": {
            "_model_module": "@jupyter-widgets/base",
            "_model_module_version": "1.2.0",
            "_model_name": "LayoutModel",
            "_view_count": null,
            "_view_module": "@jupyter-widgets/base",
            "_view_module_version": "1.2.0",
            "_view_name": "LayoutView",
            "align_content": null,
            "align_items": null,
            "align_self": null,
            "border": null,
            "bottom": null,
            "display": null,
            "flex": null,
            "flex_flow": null,
            "grid_area": null,
            "grid_auto_columns": null,
            "grid_auto_flow": null,
            "grid_auto_rows": null,
            "grid_column": null,
            "grid_gap": null,
            "grid_row": null,
            "grid_template_areas": null,
            "grid_template_columns": null,
            "grid_template_rows": null,
            "height": null,
            "justify_content": null,
            "justify_items": null,
            "left": null,
            "margin": null,
            "max_height": null,
            "max_width": null,
            "min_height": null,
            "min_width": null,
            "object_fit": null,
            "object_position": null,
            "order": null,
            "overflow": null,
            "overflow_x": null,
            "overflow_y": null,
            "padding": null,
            "right": null,
            "top": null,
            "visibility": null,
            "width": null
          }
        },
        "aad620ae42cc40ca95126e52b3ce5854": {
          "model_module": "@jupyter-widgets/controls",
          "model_name": "DescriptionStyleModel",
          "model_module_version": "1.5.0",
          "state": {
            "_model_module": "@jupyter-widgets/controls",
            "_model_module_version": "1.5.0",
            "_model_name": "DescriptionStyleModel",
            "_view_count": null,
            "_view_module": "@jupyter-widgets/base",
            "_view_module_version": "1.2.0",
            "_view_name": "StyleView",
            "description_width": ""
          }
        },
        "61b3bde2eeda459a8678840f59ac0b6d": {
          "model_module": "@jupyter-widgets/base",
          "model_name": "LayoutModel",
          "model_module_version": "1.2.0",
          "state": {
            "_model_module": "@jupyter-widgets/base",
            "_model_module_version": "1.2.0",
            "_model_name": "LayoutModel",
            "_view_count": null,
            "_view_module": "@jupyter-widgets/base",
            "_view_module_version": "1.2.0",
            "_view_name": "LayoutView",
            "align_content": null,
            "align_items": null,
            "align_self": null,
            "border": null,
            "bottom": null,
            "display": null,
            "flex": null,
            "flex_flow": null,
            "grid_area": null,
            "grid_auto_columns": null,
            "grid_auto_flow": null,
            "grid_auto_rows": null,
            "grid_column": null,
            "grid_gap": null,
            "grid_row": null,
            "grid_template_areas": null,
            "grid_template_columns": null,
            "grid_template_rows": null,
            "height": null,
            "justify_content": null,
            "justify_items": null,
            "left": null,
            "margin": null,
            "max_height": null,
            "max_width": null,
            "min_height": null,
            "min_width": null,
            "object_fit": null,
            "object_position": null,
            "order": null,
            "overflow": null,
            "overflow_x": null,
            "overflow_y": null,
            "padding": null,
            "right": null,
            "top": null,
            "visibility": null,
            "width": null
          }
        },
        "b3aa94d717494a438fd8abb46aad3bf4": {
          "model_module": "@jupyter-widgets/controls",
          "model_name": "DescriptionStyleModel",
          "model_module_version": "1.5.0",
          "state": {
            "_model_module": "@jupyter-widgets/controls",
            "_model_module_version": "1.5.0",
            "_model_name": "DescriptionStyleModel",
            "_view_count": null,
            "_view_module": "@jupyter-widgets/base",
            "_view_module_version": "1.2.0",
            "_view_name": "StyleView",
            "description_width": ""
          }
        },
        "1e65f3e9bfa34f3fafa0783ac5eb333d": {
          "model_module": "@jupyter-widgets/base",
          "model_name": "LayoutModel",
          "model_module_version": "1.2.0",
          "state": {
            "_model_module": "@jupyter-widgets/base",
            "_model_module_version": "1.2.0",
            "_model_name": "LayoutModel",
            "_view_count": null,
            "_view_module": "@jupyter-widgets/base",
            "_view_module_version": "1.2.0",
            "_view_name": "LayoutView",
            "align_content": null,
            "align_items": null,
            "align_self": null,
            "border": null,
            "bottom": null,
            "display": null,
            "flex": null,
            "flex_flow": null,
            "grid_area": null,
            "grid_auto_columns": null,
            "grid_auto_flow": null,
            "grid_auto_rows": null,
            "grid_column": null,
            "grid_gap": null,
            "grid_row": null,
            "grid_template_areas": null,
            "grid_template_columns": null,
            "grid_template_rows": null,
            "height": null,
            "justify_content": null,
            "justify_items": null,
            "left": null,
            "margin": null,
            "max_height": null,
            "max_width": null,
            "min_height": null,
            "min_width": null,
            "object_fit": null,
            "object_position": null,
            "order": null,
            "overflow": null,
            "overflow_x": null,
            "overflow_y": null,
            "padding": null,
            "right": null,
            "top": null,
            "visibility": null,
            "width": null
          }
        },
        "ac18468e503e444497e6ad1b5d979b19": {
          "model_module": "@jupyter-widgets/controls",
          "model_name": "DescriptionStyleModel",
          "model_module_version": "1.5.0",
          "state": {
            "_model_module": "@jupyter-widgets/controls",
            "_model_module_version": "1.5.0",
            "_model_name": "DescriptionStyleModel",
            "_view_count": null,
            "_view_module": "@jupyter-widgets/base",
            "_view_module_version": "1.2.0",
            "_view_name": "StyleView",
            "description_width": ""
          }
        },
        "de127bd0c32e4c6ca3eb78ce3997ed7f": {
          "model_module": "@jupyter-widgets/base",
          "model_name": "LayoutModel",
          "model_module_version": "1.2.0",
          "state": {
            "_model_module": "@jupyter-widgets/base",
            "_model_module_version": "1.2.0",
            "_model_name": "LayoutModel",
            "_view_count": null,
            "_view_module": "@jupyter-widgets/base",
            "_view_module_version": "1.2.0",
            "_view_name": "LayoutView",
            "align_content": null,
            "align_items": null,
            "align_self": null,
            "border": null,
            "bottom": null,
            "display": null,
            "flex": null,
            "flex_flow": null,
            "grid_area": null,
            "grid_auto_columns": null,
            "grid_auto_flow": null,
            "grid_auto_rows": null,
            "grid_column": null,
            "grid_gap": null,
            "grid_row": null,
            "grid_template_areas": null,
            "grid_template_columns": null,
            "grid_template_rows": null,
            "height": null,
            "justify_content": null,
            "justify_items": null,
            "left": null,
            "margin": null,
            "max_height": null,
            "max_width": null,
            "min_height": null,
            "min_width": null,
            "object_fit": null,
            "object_position": null,
            "order": null,
            "overflow": null,
            "overflow_x": null,
            "overflow_y": null,
            "padding": null,
            "right": null,
            "top": null,
            "visibility": null,
            "width": null
          }
        },
        "a77d561190474a30917aaf3eb0c59c0d": {
          "model_module": "@jupyter-widgets/controls",
          "model_name": "ButtonStyleModel",
          "model_module_version": "1.5.0",
          "state": {
            "_model_module": "@jupyter-widgets/controls",
            "_model_module_version": "1.5.0",
            "_model_name": "ButtonStyleModel",
            "_view_count": null,
            "_view_module": "@jupyter-widgets/base",
            "_view_module_version": "1.2.0",
            "_view_name": "StyleView",
            "button_color": null,
            "font_weight": ""
          }
        },
        "5a148ac152e644fc8b445c90baaf9d11": {
          "model_module": "@jupyter-widgets/base",
          "model_name": "LayoutModel",
          "model_module_version": "1.2.0",
          "state": {
            "_model_module": "@jupyter-widgets/base",
            "_model_module_version": "1.2.0",
            "_model_name": "LayoutModel",
            "_view_count": null,
            "_view_module": "@jupyter-widgets/base",
            "_view_module_version": "1.2.0",
            "_view_name": "LayoutView",
            "align_content": null,
            "align_items": null,
            "align_self": null,
            "border": null,
            "bottom": null,
            "display": null,
            "flex": null,
            "flex_flow": null,
            "grid_area": null,
            "grid_auto_columns": null,
            "grid_auto_flow": null,
            "grid_auto_rows": null,
            "grid_column": null,
            "grid_gap": null,
            "grid_row": null,
            "grid_template_areas": null,
            "grid_template_columns": null,
            "grid_template_rows": null,
            "height": null,
            "justify_content": null,
            "justify_items": null,
            "left": null,
            "margin": null,
            "max_height": null,
            "max_width": null,
            "min_height": null,
            "min_width": null,
            "object_fit": null,
            "object_position": null,
            "order": null,
            "overflow": null,
            "overflow_x": null,
            "overflow_y": null,
            "padding": null,
            "right": null,
            "top": null,
            "visibility": null,
            "width": null
          }
        },
        "b6c4d49be8774b95bb5aaae245e0296c": {
          "model_module": "@jupyter-widgets/controls",
          "model_name": "DescriptionStyleModel",
          "model_module_version": "1.5.0",
          "state": {
            "_model_module": "@jupyter-widgets/controls",
            "_model_module_version": "1.5.0",
            "_model_name": "DescriptionStyleModel",
            "_view_count": null,
            "_view_module": "@jupyter-widgets/base",
            "_view_module_version": "1.2.0",
            "_view_name": "StyleView",
            "description_width": ""
          }
        },
        "7ad5ad91e34a48e5bf41d1e9de309996": {
          "model_module": "@jupyter-widgets/controls",
          "model_name": "LabelModel",
          "model_module_version": "1.5.0",
          "state": {
            "_dom_classes": [],
            "_model_module": "@jupyter-widgets/controls",
            "_model_module_version": "1.5.0",
            "_model_name": "LabelModel",
            "_view_count": null,
            "_view_module": "@jupyter-widgets/controls",
            "_view_module_version": "1.5.0",
            "_view_name": "LabelView",
            "description": "",
            "description_tooltip": null,
            "layout": "IPY_MODEL_f6b25cf0de234c91bbe8ae225ccdb043",
            "placeholder": "​",
            "style": "IPY_MODEL_ad61794a87ca497a80a45aef45778daa",
            "value": "Connecting..."
          }
        },
        "f6b25cf0de234c91bbe8ae225ccdb043": {
          "model_module": "@jupyter-widgets/base",
          "model_name": "LayoutModel",
          "model_module_version": "1.2.0",
          "state": {
            "_model_module": "@jupyter-widgets/base",
            "_model_module_version": "1.2.0",
            "_model_name": "LayoutModel",
            "_view_count": null,
            "_view_module": "@jupyter-widgets/base",
            "_view_module_version": "1.2.0",
            "_view_name": "LayoutView",
            "align_content": null,
            "align_items": null,
            "align_self": null,
            "border": null,
            "bottom": null,
            "display": null,
            "flex": null,
            "flex_flow": null,
            "grid_area": null,
            "grid_auto_columns": null,
            "grid_auto_flow": null,
            "grid_auto_rows": null,
            "grid_column": null,
            "grid_gap": null,
            "grid_row": null,
            "grid_template_areas": null,
            "grid_template_columns": null,
            "grid_template_rows": null,
            "height": null,
            "justify_content": null,
            "justify_items": null,
            "left": null,
            "margin": null,
            "max_height": null,
            "max_width": null,
            "min_height": null,
            "min_width": null,
            "object_fit": null,
            "object_position": null,
            "order": null,
            "overflow": null,
            "overflow_x": null,
            "overflow_y": null,
            "padding": null,
            "right": null,
            "top": null,
            "visibility": null,
            "width": null
          }
        },
        "ad61794a87ca497a80a45aef45778daa": {
          "model_module": "@jupyter-widgets/controls",
          "model_name": "DescriptionStyleModel",
          "model_module_version": "1.5.0",
          "state": {
            "_model_module": "@jupyter-widgets/controls",
            "_model_module_version": "1.5.0",
            "_model_name": "DescriptionStyleModel",
            "_view_count": null,
            "_view_module": "@jupyter-widgets/base",
            "_view_module_version": "1.2.0",
            "_view_name": "StyleView",
            "description_width": ""
          }
        },
        "0718acc683804e7d8277088bf5093194": {
          "model_module": "@jupyter-widgets/controls",
          "model_name": "LabelModel",
          "model_module_version": "1.5.0",
          "state": {
            "_dom_classes": [],
            "_model_module": "@jupyter-widgets/controls",
            "_model_module_version": "1.5.0",
            "_model_name": "LabelModel",
            "_view_count": null,
            "_view_module": "@jupyter-widgets/controls",
            "_view_module_version": "1.5.0",
            "_view_name": "LabelView",
            "description": "",
            "description_tooltip": null,
            "layout": "IPY_MODEL_18e7ce8330f24e41960fce27b2de600d",
            "placeholder": "​",
            "style": "IPY_MODEL_a1282b575b9f452cb4a5a049a9578f98",
            "value": "Kaggle credentials successfully validated."
          }
        },
        "18e7ce8330f24e41960fce27b2de600d": {
          "model_module": "@jupyter-widgets/base",
          "model_name": "LayoutModel",
          "model_module_version": "1.2.0",
          "state": {
            "_model_module": "@jupyter-widgets/base",
            "_model_module_version": "1.2.0",
            "_model_name": "LayoutModel",
            "_view_count": null,
            "_view_module": "@jupyter-widgets/base",
            "_view_module_version": "1.2.0",
            "_view_name": "LayoutView",
            "align_content": null,
            "align_items": null,
            "align_self": null,
            "border": null,
            "bottom": null,
            "display": null,
            "flex": null,
            "flex_flow": null,
            "grid_area": null,
            "grid_auto_columns": null,
            "grid_auto_flow": null,
            "grid_auto_rows": null,
            "grid_column": null,
            "grid_gap": null,
            "grid_row": null,
            "grid_template_areas": null,
            "grid_template_columns": null,
            "grid_template_rows": null,
            "height": null,
            "justify_content": null,
            "justify_items": null,
            "left": null,
            "margin": null,
            "max_height": null,
            "max_width": null,
            "min_height": null,
            "min_width": null,
            "object_fit": null,
            "object_position": null,
            "order": null,
            "overflow": null,
            "overflow_x": null,
            "overflow_y": null,
            "padding": null,
            "right": null,
            "top": null,
            "visibility": null,
            "width": null
          }
        },
        "a1282b575b9f452cb4a5a049a9578f98": {
          "model_module": "@jupyter-widgets/controls",
          "model_name": "DescriptionStyleModel",
          "model_module_version": "1.5.0",
          "state": {
            "_model_module": "@jupyter-widgets/controls",
            "_model_module_version": "1.5.0",
            "_model_name": "DescriptionStyleModel",
            "_view_count": null,
            "_view_module": "@jupyter-widgets/base",
            "_view_module_version": "1.2.0",
            "_view_name": "StyleView",
            "description_width": ""
          }
        },
        "3a7923018780423999dcffed96e0d18d": {
          "model_module": "@jupyter-widgets/controls",
          "model_name": "LabelModel",
          "model_module_version": "1.5.0",
          "state": {
            "_dom_classes": [],
            "_model_module": "@jupyter-widgets/controls",
            "_model_module_version": "1.5.0",
            "_model_name": "LabelModel",
            "_view_count": null,
            "_view_module": "@jupyter-widgets/controls",
            "_view_module_version": "1.5.0",
            "_view_name": "LabelView",
            "description": "",
            "description_tooltip": null,
            "layout": "IPY_MODEL_b6b7061153e443e9a1d98a64b75470b3",
            "placeholder": "​",
            "style": "IPY_MODEL_ed6b9789230d4cba91118dbc2c0e9ce1",
            "value": "Connecting..."
          }
        },
        "b6b7061153e443e9a1d98a64b75470b3": {
          "model_module": "@jupyter-widgets/base",
          "model_name": "LayoutModel",
          "model_module_version": "1.2.0",
          "state": {
            "_model_module": "@jupyter-widgets/base",
            "_model_module_version": "1.2.0",
            "_model_name": "LayoutModel",
            "_view_count": null,
            "_view_module": "@jupyter-widgets/base",
            "_view_module_version": "1.2.0",
            "_view_name": "LayoutView",
            "align_content": null,
            "align_items": null,
            "align_self": null,
            "border": null,
            "bottom": null,
            "display": null,
            "flex": null,
            "flex_flow": null,
            "grid_area": null,
            "grid_auto_columns": null,
            "grid_auto_flow": null,
            "grid_auto_rows": null,
            "grid_column": null,
            "grid_gap": null,
            "grid_row": null,
            "grid_template_areas": null,
            "grid_template_columns": null,
            "grid_template_rows": null,
            "height": null,
            "justify_content": null,
            "justify_items": null,
            "left": null,
            "margin": null,
            "max_height": null,
            "max_width": null,
            "min_height": null,
            "min_width": null,
            "object_fit": null,
            "object_position": null,
            "order": null,
            "overflow": null,
            "overflow_x": null,
            "overflow_y": null,
            "padding": null,
            "right": null,
            "top": null,
            "visibility": null,
            "width": null
          }
        },
        "ed6b9789230d4cba91118dbc2c0e9ce1": {
          "model_module": "@jupyter-widgets/controls",
          "model_name": "DescriptionStyleModel",
          "model_module_version": "1.5.0",
          "state": {
            "_model_module": "@jupyter-widgets/controls",
            "_model_module_version": "1.5.0",
            "_model_name": "DescriptionStyleModel",
            "_view_count": null,
            "_view_module": "@jupyter-widgets/base",
            "_view_module_version": "1.2.0",
            "_view_name": "StyleView",
            "description_width": ""
          }
        },
        "42d37c2be032454b8b68d2db89737d62": {
          "model_module": "@jupyter-widgets/controls",
          "model_name": "LabelModel",
          "model_module_version": "1.5.0",
          "state": {
            "_dom_classes": [],
            "_model_module": "@jupyter-widgets/controls",
            "_model_module_version": "1.5.0",
            "_model_name": "LabelModel",
            "_view_count": null,
            "_view_module": "@jupyter-widgets/controls",
            "_view_module_version": "1.5.0",
            "_view_name": "LabelView",
            "description": "",
            "description_tooltip": null,
            "layout": "IPY_MODEL_4bc90118291444faba01296ed416870d",
            "placeholder": "​",
            "style": "IPY_MODEL_17a3809895b34665a916bdd3b7af7bbc",
            "value": "Both username and API key cannot be empty or whitespace"
          }
        },
        "4bc90118291444faba01296ed416870d": {
          "model_module": "@jupyter-widgets/base",
          "model_name": "LayoutModel",
          "model_module_version": "1.2.0",
          "state": {
            "_model_module": "@jupyter-widgets/base",
            "_model_module_version": "1.2.0",
            "_model_name": "LayoutModel",
            "_view_count": null,
            "_view_module": "@jupyter-widgets/base",
            "_view_module_version": "1.2.0",
            "_view_name": "LayoutView",
            "align_content": null,
            "align_items": null,
            "align_self": null,
            "border": null,
            "bottom": null,
            "display": null,
            "flex": null,
            "flex_flow": null,
            "grid_area": null,
            "grid_auto_columns": null,
            "grid_auto_flow": null,
            "grid_auto_rows": null,
            "grid_column": null,
            "grid_gap": null,
            "grid_row": null,
            "grid_template_areas": null,
            "grid_template_columns": null,
            "grid_template_rows": null,
            "height": null,
            "justify_content": null,
            "justify_items": null,
            "left": null,
            "margin": null,
            "max_height": null,
            "max_width": null,
            "min_height": null,
            "min_width": null,
            "object_fit": null,
            "object_position": null,
            "order": null,
            "overflow": null,
            "overflow_x": null,
            "overflow_y": null,
            "padding": null,
            "right": null,
            "top": null,
            "visibility": null,
            "width": null
          }
        },
        "17a3809895b34665a916bdd3b7af7bbc": {
          "model_module": "@jupyter-widgets/controls",
          "model_name": "DescriptionStyleModel",
          "model_module_version": "1.5.0",
          "state": {
            "_model_module": "@jupyter-widgets/controls",
            "_model_module_version": "1.5.0",
            "_model_name": "DescriptionStyleModel",
            "_view_count": null,
            "_view_module": "@jupyter-widgets/base",
            "_view_module_version": "1.2.0",
            "_view_name": "StyleView",
            "description_width": ""
          }
        }
      }
    }
  },
  "cells": [
    {
      "cell_type": "markdown",
      "source": [
        "---\n",
        "Импорт из Kaggle\n",
        "--\n",
        "\n",
        "---"
      ],
      "metadata": {
        "id": "r34K4tlZ9Flk"
      }
    },
    {
      "cell_type": "code",
      "source": [
        "import kagglehub\n",
        "kagglehub.login()\n"
      ],
      "metadata": {
        "colab": {
          "base_uri": "https://localhost:8080/",
          "height": 86,
          "referenced_widgets": [
            "7d1d21a7df80408aa0e480fbb3551fe2",
            "b10504df61cb4901b9dbaf57d9484c59",
            "f01c4ba9fb97400180f2c27fae325fe6",
            "5fc4cc02ba4d4e458a0b89d41d428437",
            "993d53a264c64913899517fdb9f8a37a",
            "c887931c08084eeb8724ef828cf7b689",
            "6f89a8fcbf7c4849939feaac1e732c9c",
            "7c3c673cab654e318866b84984820a7a",
            "aad620ae42cc40ca95126e52b3ce5854",
            "61b3bde2eeda459a8678840f59ac0b6d",
            "b3aa94d717494a438fd8abb46aad3bf4",
            "1e65f3e9bfa34f3fafa0783ac5eb333d",
            "ac18468e503e444497e6ad1b5d979b19",
            "de127bd0c32e4c6ca3eb78ce3997ed7f",
            "a77d561190474a30917aaf3eb0c59c0d",
            "5a148ac152e644fc8b445c90baaf9d11",
            "b6c4d49be8774b95bb5aaae245e0296c",
            "7ad5ad91e34a48e5bf41d1e9de309996",
            "f6b25cf0de234c91bbe8ae225ccdb043",
            "ad61794a87ca497a80a45aef45778daa",
            "0718acc683804e7d8277088bf5093194",
            "18e7ce8330f24e41960fce27b2de600d",
            "a1282b575b9f452cb4a5a049a9578f98",
            "3a7923018780423999dcffed96e0d18d",
            "b6b7061153e443e9a1d98a64b75470b3",
            "ed6b9789230d4cba91118dbc2c0e9ce1",
            "42d37c2be032454b8b68d2db89737d62",
            "4bc90118291444faba01296ed416870d",
            "17a3809895b34665a916bdd3b7af7bbc"
          ]
        },
        "id": "ad5uHgVZgfJ7",
        "outputId": "a5207bb7-279f-4e32-8b68-73a0b094352e"
      },
      "execution_count": 30,
      "outputs": [
        {
          "output_type": "display_data",
          "data": {
            "text/plain": [
              "VBox(children=(HTML(value='<center> <img\\nsrc=https://www.kaggle.com/static/images/site-logo.png\\nalt=\\'Kaggle…"
            ],
            "application/vnd.jupyter.widget-view+json": {
              "version_major": 2,
              "version_minor": 0,
              "model_id": "7d1d21a7df80408aa0e480fbb3551fe2"
            }
          },
          "metadata": {}
        },
        {
          "output_type": "stream",
          "name": "stdout",
          "text": [
            "Kaggle credentials set.\n",
            "Kaggle credentials successfully validated.\n"
          ]
        }
      ]
    },
    {
      "cell_type": "code",
      "source": [
        "dl2025miptml_path = kagglehub.competition_download('dl2025miptml')\n",
        "\n",
        "print('Data source import complete.')"
      ],
      "metadata": {
        "colab": {
          "base_uri": "https://localhost:8080/"
        },
        "id": "lrMTtxnCgufx",
        "outputId": "4b725a3f-7173-4167-eceb-5ea44de750c9"
      },
      "execution_count": 31,
      "outputs": [
        {
          "output_type": "stream",
          "name": "stdout",
          "text": [
            "Data source import complete.\n"
          ]
        }
      ]
    },
    {
      "cell_type": "code",
      "source": [
        "print(\"Файлы, которые скачались:\")\n",
        "print(dl2025miptml_path)\n",
        "print(os.listdir(dl2025miptml_path))"
      ],
      "metadata": {
        "colab": {
          "base_uri": "https://localhost:8080/"
        },
        "id": "oGc3t337jg65",
        "outputId": "168bd8fa-8cc8-484c-eed5-bbbae31aec59"
      },
      "execution_count": 32,
      "outputs": [
        {
          "output_type": "stream",
          "name": "stdout",
          "text": [
            "Файлы, которые скачались:\n",
            "/root/.cache/kagglehub/competitions/dl2025miptml\n",
            "['fashion-mnist-testn']\n"
          ]
        }
      ]
    },
    {
      "cell_type": "code",
      "source": [
        "print(\"Содержимое:\")\n",
        "print(os.listdir(dl2025miptml_path))"
      ],
      "metadata": {
        "colab": {
          "base_uri": "https://localhost:8080/"
        },
        "id": "r1ZkphmtjtZH",
        "outputId": "80b9f60f-1e67-4ed7-f5b9-4717af75b806"
      },
      "execution_count": 33,
      "outputs": [
        {
          "output_type": "stream",
          "name": "stdout",
          "text": [
            "Содержимое:\n",
            "['fashion-mnist-testn']\n"
          ]
        }
      ]
    },
    {
      "cell_type": "markdown",
      "source": [
        "---\n",
        "Импорт библиотек\n",
        "--\n",
        "---"
      ],
      "metadata": {
        "id": "SI1Q5vvJ9QVp"
      }
    },
    {
      "cell_type": "code",
      "execution_count": 34,
      "metadata": {
        "colab": {
          "base_uri": "https://localhost:8080/"
        },
        "id": "pryXWtvA8k3m",
        "outputId": "b4cfe598-f77b-458a-a7cd-db6b26c79bab"
      },
      "outputs": [
        {
          "output_type": "stream",
          "name": "stdout",
          "text": [
            "Requirement already satisfied: tensorflow in /usr/local/lib/python3.11/dist-packages (2.18.0)\n",
            "Requirement already satisfied: absl-py>=1.0.0 in /usr/local/lib/python3.11/dist-packages (from tensorflow) (1.4.0)\n",
            "Requirement already satisfied: astunparse>=1.6.0 in /usr/local/lib/python3.11/dist-packages (from tensorflow) (1.6.3)\n",
            "Requirement already satisfied: flatbuffers>=24.3.25 in /usr/local/lib/python3.11/dist-packages (from tensorflow) (25.2.10)\n",
            "Requirement already satisfied: gast!=0.5.0,!=0.5.1,!=0.5.2,>=0.2.1 in /usr/local/lib/python3.11/dist-packages (from tensorflow) (0.6.0)\n",
            "Requirement already satisfied: google-pasta>=0.1.1 in /usr/local/lib/python3.11/dist-packages (from tensorflow) (0.2.0)\n",
            "Requirement already satisfied: libclang>=13.0.0 in /usr/local/lib/python3.11/dist-packages (from tensorflow) (18.1.1)\n",
            "Requirement already satisfied: opt-einsum>=2.3.2 in /usr/local/lib/python3.11/dist-packages (from tensorflow) (3.4.0)\n",
            "Requirement already satisfied: packaging in /usr/local/lib/python3.11/dist-packages (from tensorflow) (24.2)\n",
            "Requirement already satisfied: protobuf!=4.21.0,!=4.21.1,!=4.21.2,!=4.21.3,!=4.21.4,!=4.21.5,<6.0.0dev,>=3.20.3 in /usr/local/lib/python3.11/dist-packages (from tensorflow) (5.29.4)\n",
            "Requirement already satisfied: requests<3,>=2.21.0 in /usr/local/lib/python3.11/dist-packages (from tensorflow) (2.32.3)\n",
            "Requirement already satisfied: setuptools in /usr/local/lib/python3.11/dist-packages (from tensorflow) (75.2.0)\n",
            "Requirement already satisfied: six>=1.12.0 in /usr/local/lib/python3.11/dist-packages (from tensorflow) (1.17.0)\n",
            "Requirement already satisfied: termcolor>=1.1.0 in /usr/local/lib/python3.11/dist-packages (from tensorflow) (3.1.0)\n",
            "Requirement already satisfied: typing-extensions>=3.6.6 in /usr/local/lib/python3.11/dist-packages (from tensorflow) (4.13.2)\n",
            "Requirement already satisfied: wrapt>=1.11.0 in /usr/local/lib/python3.11/dist-packages (from tensorflow) (1.17.2)\n",
            "Requirement already satisfied: grpcio<2.0,>=1.24.3 in /usr/local/lib/python3.11/dist-packages (from tensorflow) (1.71.0)\n",
            "Requirement already satisfied: tensorboard<2.19,>=2.18 in /usr/local/lib/python3.11/dist-packages (from tensorflow) (2.18.0)\n",
            "Requirement already satisfied: keras>=3.5.0 in /usr/local/lib/python3.11/dist-packages (from tensorflow) (3.8.0)\n",
            "Requirement already satisfied: numpy<2.1.0,>=1.26.0 in /usr/local/lib/python3.11/dist-packages (from tensorflow) (2.0.2)\n",
            "Requirement already satisfied: h5py>=3.11.0 in /usr/local/lib/python3.11/dist-packages (from tensorflow) (3.13.0)\n",
            "Requirement already satisfied: ml-dtypes<0.5.0,>=0.4.0 in /usr/local/lib/python3.11/dist-packages (from tensorflow) (0.4.1)\n",
            "Requirement already satisfied: tensorflow-io-gcs-filesystem>=0.23.1 in /usr/local/lib/python3.11/dist-packages (from tensorflow) (0.37.1)\n",
            "Requirement already satisfied: wheel<1.0,>=0.23.0 in /usr/local/lib/python3.11/dist-packages (from astunparse>=1.6.0->tensorflow) (0.45.1)\n",
            "Requirement already satisfied: rich in /usr/local/lib/python3.11/dist-packages (from keras>=3.5.0->tensorflow) (13.9.4)\n",
            "Requirement already satisfied: namex in /usr/local/lib/python3.11/dist-packages (from keras>=3.5.0->tensorflow) (0.0.9)\n",
            "Requirement already satisfied: optree in /usr/local/lib/python3.11/dist-packages (from keras>=3.5.0->tensorflow) (0.15.0)\n",
            "Requirement already satisfied: charset-normalizer<4,>=2 in /usr/local/lib/python3.11/dist-packages (from requests<3,>=2.21.0->tensorflow) (3.4.1)\n",
            "Requirement already satisfied: idna<4,>=2.5 in /usr/local/lib/python3.11/dist-packages (from requests<3,>=2.21.0->tensorflow) (3.10)\n",
            "Requirement already satisfied: urllib3<3,>=1.21.1 in /usr/local/lib/python3.11/dist-packages (from requests<3,>=2.21.0->tensorflow) (2.4.0)\n",
            "Requirement already satisfied: certifi>=2017.4.17 in /usr/local/lib/python3.11/dist-packages (from requests<3,>=2.21.0->tensorflow) (2025.4.26)\n",
            "Requirement already satisfied: markdown>=2.6.8 in /usr/local/lib/python3.11/dist-packages (from tensorboard<2.19,>=2.18->tensorflow) (3.8)\n",
            "Requirement already satisfied: tensorboard-data-server<0.8.0,>=0.7.0 in /usr/local/lib/python3.11/dist-packages (from tensorboard<2.19,>=2.18->tensorflow) (0.7.2)\n",
            "Requirement already satisfied: werkzeug>=1.0.1 in /usr/local/lib/python3.11/dist-packages (from tensorboard<2.19,>=2.18->tensorflow) (3.1.3)\n",
            "Requirement already satisfied: MarkupSafe>=2.1.1 in /usr/local/lib/python3.11/dist-packages (from werkzeug>=1.0.1->tensorboard<2.19,>=2.18->tensorflow) (3.0.2)\n",
            "Requirement already satisfied: markdown-it-py>=2.2.0 in /usr/local/lib/python3.11/dist-packages (from rich->keras>=3.5.0->tensorflow) (3.0.0)\n",
            "Requirement already satisfied: pygments<3.0.0,>=2.13.0 in /usr/local/lib/python3.11/dist-packages (from rich->keras>=3.5.0->tensorflow) (2.19.1)\n",
            "Requirement already satisfied: mdurl~=0.1 in /usr/local/lib/python3.11/dist-packages (from markdown-it-py>=2.2.0->rich->keras>=3.5.0->tensorflow) (0.1.2)\n"
          ]
        }
      ],
      "source": [
        "!pip install tensorflow\n",
        "\n",
        "import pandas as pd\n",
        "import numpy as np\n",
        "import matplotlib.pyplot as plt\n",
        "import seaborn as sns\n",
        "\n",
        "from sklearn.model_selection import train_test_split\n",
        "from sklearn.metrics import classification_report, confusion_matrix\n",
        "\n",
        "import tensorflow as tf\n",
        "from tensorflow.keras import layers, models\n",
        "\n",
        "import os\n",
        "from zipfile import ZipFile"
      ]
    },
    {
      "cell_type": "markdown",
      "source": [
        "---\n",
        "Исследуем данные\n",
        "--\n",
        "\n",
        "---"
      ],
      "metadata": {
        "id": "VL0BBNfw9bjP"
      }
    },
    {
      "cell_type": "code",
      "source": [
        "base_dir = \"/root/.cache/kagglehub/competitions/dl2025miptml/fashion-mnist-testn\"\n",
        "\n",
        "# Посмотрим, что лежит внутри\n",
        "print(\"Файлы внутри папки:\", os.listdir(base_dir))"
      ],
      "metadata": {
        "colab": {
          "base_uri": "https://localhost:8080/"
        },
        "id": "v6n4ePvYhYtm",
        "outputId": "ca2b9159-94b4-4d7c-9657-f073b871b660"
      },
      "execution_count": 35,
      "outputs": [
        {
          "output_type": "stream",
          "name": "stdout",
          "text": [
            "Файлы внутри папки: ['fmnist_test.csv', 'fmnist_train.csv', 'sample_submission.csv']\n"
          ]
        }
      ]
    },
    {
      "cell_type": "code",
      "source": [
        "# Загружаем CSV\n",
        "train = pd.read_csv(f\"{base_dir}/fmnist_train.csv\")\n",
        "test = pd.read_csv(f\"{base_dir}/fmnist_test.csv\")\n",
        "sample_submission = pd.read_csv(f\"{base_dir}/sample_submission.csv\")\n",
        "\n",
        "print(\"Размер обучающей выборки:\", train.shape)\n",
        "print(\"Размер тестовой выборки:\", test.shape)\n",
        "\n",
        "# Проверка пропусков\n",
        "print(\"Пропуски в train:\\n\", train.isnull().sum().sum())\n",
        "print(\"Пропуски в test:\\n\", test.isnull().sum().sum())"
      ],
      "metadata": {
        "colab": {
          "base_uri": "https://localhost:8080/"
        },
        "id": "963PZupMBxZE",
        "outputId": "9a9ca589-9365-47cb-ce8d-969a14df3dec"
      },
      "execution_count": 36,
      "outputs": [
        {
          "output_type": "stream",
          "name": "stdout",
          "text": [
            "Размер обучающей выборки: (17040, 786)\n",
            "Размер тестовой выборки: (10000, 785)\n",
            "Пропуски в train:\n",
            " 424\n",
            "Пропуски в test:\n",
            " 0\n"
          ]
        }
      ]
    },
    {
      "cell_type": "code",
      "source": [
        "print(train.isnull().sum()[train.isnull().sum() > 0])"
      ],
      "metadata": {
        "colab": {
          "base_uri": "https://localhost:8080/"
        },
        "id": "WI8shvSVkUKv",
        "outputId": "3a727a4a-7fa2-40f6-cfcf-517c78e9bea7"
      },
      "execution_count": 37,
      "outputs": [
        {
          "output_type": "stream",
          "name": "stdout",
          "text": [
            "pixel361    1\n",
            "pixel362    1\n",
            "pixel363    1\n",
            "pixel364    1\n",
            "pixel365    1\n",
            "           ..\n",
            "pixel780    1\n",
            "pixel781    1\n",
            "pixel782    1\n",
            "pixel783    1\n",
            "pixel784    1\n",
            "Length: 424, dtype: int64\n"
          ]
        }
      ]
    },
    {
      "cell_type": "code",
      "source": [
        "train = train.fillna(0)"
      ],
      "metadata": {
        "id": "DMQwAiLDkbJt"
      },
      "execution_count": 38,
      "outputs": []
    },
    {
      "cell_type": "code",
      "source": [
        "print(\"Train после замены :\", train.isnull().sum().sum())  # должно быть 0"
      ],
      "metadata": {
        "colab": {
          "base_uri": "https://localhost:8080/"
        },
        "id": "TQYEOFPPkf7P",
        "outputId": "58f59f15-aabe-4dc5-b6a6-13686f17649f"
      },
      "execution_count": 39,
      "outputs": [
        {
          "output_type": "stream",
          "name": "stdout",
          "text": [
            "Проверка после замены: 0\n"
          ]
        }
      ]
    },
    {
      "cell_type": "code",
      "source": [
        "#Смотрим прмеры\n",
        "def show_sample(df, n=5):\n",
        "    fig, axes = plt.subplots(1, n, figsize=(12, 3))\n",
        "    for i in range(n):\n",
        "        img = df.iloc[i, 1:-1].values.reshape(28, 28)\n",
        "        label = df.iloc[i, 0]\n",
        "        axes[i].imshow(img, cmap=\"gray\")\n",
        "        axes[i].axis(\"off\")\n",
        "        axes[i].set_title(f\"Label: {label}\")\n",
        "\n",
        "show_sample(train)"
      ],
      "metadata": {
        "colab": {
          "base_uri": "https://localhost:8080/",
          "height": 219
        },
        "id": "PVr-ZRbnB0Mw",
        "outputId": "5fd4c2f1-bcf8-418c-b030-2e9678c45220"
      },
      "execution_count": 40,
      "outputs": [
        {
          "output_type": "display_data",
          "data": {
            "text/plain": [
              "<Figure size 1200x300 with 5 Axes>"
            ],
            "image/png": "[encoded data removed]"
          },
          "metadata": {}
        }
      ]
    },
    {
      "cell_type": "code",
      "source": [
        "X = train.drop(columns=[\"label\", \"Id\"]).values.reshape(-1, 28, 28, 1) / 255.0\n",
        "y = train[\"label\"].values\n",
        "\n",
        "X_test = test.drop(columns=[\"Id\"]).values.reshape(-1, 28, 28, 1) / 255.0"
      ],
      "metadata": {
        "id": "4PGjGuAlB2T-"
      },
      "execution_count": 41,
      "outputs": []
    },
    {
      "cell_type": "code",
      "source": [
        "X_train, X_val, y_train, y_val = train_test_split(X, y, test_size=0.15, random_state=42, stratify=y)\n"
      ],
      "metadata": {
        "id": "0Mf822VQB387"
      },
      "execution_count": 42,
      "outputs": []
    },
    {
      "cell_type": "markdown",
      "source": [
        "---\n",
        "Модель\n",
        "--\n",
        "---"
      ],
      "metadata": {
        "id": "CLlY72b09keR"
      }
    },
    {
      "cell_type": "code",
      "source": [
        "model = models.Sequential([\n",
        "    layers.Input(shape=(28, 28, 1)),\n",
        "    layers.Conv2D(32, (3,3), activation='relu', input_shape=(28,28,1)),\n",
        "    # Нормализация + сжатие + регуляризация — всё в одном блоке\n",
        "    layers.BatchNormalization(),\n",
        "    layers.MaxPooling2D(pool_size=(2, 2)),\n",
        "    layers.Dropout(rate=0.25),\n",
        "    # Добавил Dropout, потому что без него модель переобучалась на 6-7 эпохе\n",
        "\n",
        "    layers.Conv2D(64, (3,3), activation='relu'),\n",
        "    layers.BatchNormalization(),\n",
        "    layers.MaxPooling2D((2,2)),\n",
        "    layers.Dropout(0.25),\n",
        "\n",
        "    layers.Flatten(),\n",
        "    layers.Dense(128, activation='relu'),\n",
        "    layers.Dropout(0.5),\n",
        "    layers.Dense(10, activation='softmax')\n",
        "])\n",
        "\n",
        "# возможно, стоило попробовать ReLU, но у меня не получтлось....."
      ],
      "metadata": {
        "colab": {
          "base_uri": "https://localhost:8080/"
        },
        "id": "srMiAVXVB6qq",
        "outputId": "026a8ce3-799c-40c5-8e09-494a5d55c954"
      },
      "execution_count": 43,
      "outputs": [
        {
          "output_type": "stream",
          "name": "stderr",
          "text": [
            "/usr/local/lib/python3.11/dist-packages/keras/src/layers/convolutional/base_conv.py:107: UserWarning: Do not pass an `input_shape`/`input_dim` argument to a layer. When using Sequential models, prefer using an `Input(shape)` object as the first layer in the model instead.\n",
            "  super().__init__(activity_regularizer=activity_regularizer, **kwargs)\n"
          ]
        }
      ]
    },
    {
      "cell_type": "code",
      "source": [
        "model.compile(optimizer='adam', loss='sparse_categorical_crossentropy', metrics=['accuracy'])\n",
        "\n",
        "history = model.fit(X_train, y_train,\n",
        "                    validation_data=(X_val, y_val),\n",
        "                    epochs=15,\n",
        "                    batch_size=64,\n",
        "                    verbose=2)"
      ],
      "metadata": {
        "colab": {
          "base_uri": "https://localhost:8080/"
        },
        "id": "xzwkGViMB8Ud",
        "outputId": "35c182fe-66be-456e-aa76-9f4ea1ac84f4"
      },
      "execution_count": 44,
      "outputs": [
        {
          "output_type": "stream",
          "name": "stdout",
          "text": [
            "Epoch 1/15\n",
            "227/227 - 21s - 94ms/step - accuracy: 0.6958 - loss: 0.8885 - val_accuracy: 0.4120 - val_loss: 1.9187\n",
            "Epoch 2/15\n",
            "227/227 - 19s - 84ms/step - accuracy: 0.7915 - loss: 0.5690 - val_accuracy: 0.7250 - val_loss: 0.7937\n",
            "Epoch 3/15\n",
            "227/227 - 19s - 82ms/step - accuracy: 0.8190 - loss: 0.4888 - val_accuracy: 0.8521 - val_loss: 0.4290\n",
            "Epoch 4/15\n",
            "227/227 - 18s - 77ms/step - accuracy: 0.8324 - loss: 0.4455 - val_accuracy: 0.8505 - val_loss: 0.4064\n",
            "Epoch 5/15\n",
            "227/227 - 22s - 98ms/step - accuracy: 0.8442 - loss: 0.4166 - val_accuracy: 0.8697 - val_loss: 0.4018\n",
            "Epoch 6/15\n",
            "227/227 - 19s - 85ms/step - accuracy: 0.8516 - loss: 0.3958 - val_accuracy: 0.8760 - val_loss: 0.3595\n",
            "Epoch 7/15\n",
            "227/227 - 20s - 89ms/step - accuracy: 0.8574 - loss: 0.3814 - val_accuracy: 0.8803 - val_loss: 0.3510\n",
            "Epoch 8/15\n",
            "227/227 - 17s - 77ms/step - accuracy: 0.8659 - loss: 0.3551 - val_accuracy: 0.8842 - val_loss: 0.3473\n",
            "Epoch 9/15\n",
            "227/227 - 19s - 82ms/step - accuracy: 0.8748 - loss: 0.3367 - val_accuracy: 0.8885 - val_loss: 0.3397\n",
            "Epoch 10/15\n",
            "227/227 - 18s - 77ms/step - accuracy: 0.8777 - loss: 0.3203 - val_accuracy: 0.8858 - val_loss: 0.3444\n",
            "Epoch 11/15\n",
            "227/227 - 19s - 82ms/step - accuracy: 0.8813 - loss: 0.3167 - val_accuracy: 0.8850 - val_loss: 0.3355\n",
            "Epoch 12/15\n",
            "227/227 - 19s - 85ms/step - accuracy: 0.8828 - loss: 0.3095 - val_accuracy: 0.8826 - val_loss: 0.3590\n",
            "Epoch 13/15\n",
            "227/227 - 23s - 103ms/step - accuracy: 0.8882 - loss: 0.2939 - val_accuracy: 0.8912 - val_loss: 0.3319\n",
            "Epoch 14/15\n",
            "227/227 - 18s - 80ms/step - accuracy: 0.8892 - loss: 0.2955 - val_accuracy: 0.8959 - val_loss: 0.3270\n",
            "Epoch 15/15\n",
            "227/227 - 20s - 87ms/step - accuracy: 0.8922 - loss: 0.2886 - val_accuracy: 0.8905 - val_loss: 0.3399\n"
          ]
        }
      ]
    },
    {
      "cell_type": "markdown",
      "source": [
        "---\n",
        "Графики\n",
        "--\n",
        "---"
      ],
      "metadata": {
        "id": "h9ILj9G89qDw"
      }
    },
    {
      "cell_type": "code",
      "source": [
        "val_preds = model.predict(X_val).argmax(axis=1)\n",
        "print(classification_report(y_val, val_preds))\n",
        "sns.heatmap(confusion_matrix(y_val, val_preds), annot=True, fmt=\"d\")"
      ],
      "metadata": {
        "colab": {
          "base_uri": "https://localhost:8080/",
          "height": 783
        },
        "id": "W8XSomaQB9uy",
        "outputId": "cb2ca0b4-ae36-40fa-f843-b0565fe9352d"
      },
      "execution_count": 45,
      "outputs": [
        {
          "output_type": "stream",
          "name": "stdout",
          "text": [
            "\u001b[1m80/80\u001b[0m \u001b[32m━━━━━━━━━━━━━━━━━━━━\u001b[0m\u001b[37m\u001b[0m \u001b[1m1s\u001b[0m 10ms/step\n",
            "              precision    recall  f1-score   support\n",
            "\n",
            "           0       0.89      0.83      0.86       265\n",
            "           1       0.98      0.98      0.98       255\n",
            "           2       0.83      0.78      0.81       252\n",
            "           3       0.91      0.95      0.93       259\n",
            "           4       0.78      0.79      0.79       246\n",
            "           5       0.98      0.98      0.98       254\n",
            "           6       0.65      0.74      0.69       256\n",
            "           7       0.95      0.95      0.95       264\n",
            "           8       1.00      0.93      0.96       251\n",
            "           9       0.96      0.96      0.96       254\n",
            "\n",
            "    accuracy                           0.89      2556\n",
            "   macro avg       0.89      0.89      0.89      2556\n",
            "weighted avg       0.89      0.89      0.89      2556\n",
            "\n"
          ]
        },
        {
          "output_type": "execute_result",
          "data": {
            "text/plain": [
              "<Axes: >"
            ]
          },
          "metadata": {},
          "execution_count": 45
        },
        {
          "output_type": "display_data",
          "data": {
            "text/plain": [
              "<Figure size 640x480 with 2 Axes>"
            ],
            "image/png": "[encoded data removed]"
          },
          "metadata": {}
        }
      ]
    },
    {
      "cell_type": "markdown",
      "source": [
        "Видно, например, что класс 6 (рубашка) путают с 0 (футболка) 2 и 4\n",
        "\n",
        "\n",
        "----\n",
        "0 T-shirt/top — футболка;\n",
        "\n",
        "1 Trouser — брюки;\n",
        "\n",
        "2 Pullover — свитер;\n",
        "\n",
        "3 Dress — платье;\n",
        "\n",
        "4 Coat — пальто;\n",
        "\n",
        "5 Sandal — сандалия;\n",
        "\n",
        "6 Shirt — рубашка;\n",
        "\n",
        "7 Sneaker — кроссовок;\n",
        "\n",
        "8 Bag — сумка;\n",
        "\n",
        "9 Ankle boot — сапог.\n",
        "\n",
        "---"
      ],
      "metadata": {
        "id": "xUr8hxpfy5A6"
      }
    },
    {
      "cell_type": "code",
      "source": [
        "sns.countplot(x='label', data=train)\n",
        "plt.title(\"Распределение классов в обучающей выборке\")\n",
        "plt.xlabel(\"Класс\")\n",
        "plt.ylabel(\"Количество\")\n",
        "plt.show()"
      ],
      "metadata": {
        "colab": {
          "base_uri": "https://localhost:8080/",
          "height": 472
        },
        "id": "cGcXS_H8pMEQ",
        "outputId": "31b28e1f-b0ea-4618-8a8c-0f35159eb523"
      },
      "execution_count": 46,
      "outputs": [
        {
          "output_type": "display_data",
          "data": {
            "text/plain": [
              "<Figure size 640x480 with 1 Axes>"
            ],
            "image/png": "[encoded data removed]"
          },
          "metadata": {}
        }
      ]
    },
    {
      "cell_type": "markdown",
      "source": [
        "Видно, что выборка почти сбалансирована — что хорошо для обучения"
      ],
      "metadata": {
        "id": "x4OudTUgyuKJ"
      }
    },
    {
      "cell_type": "code",
      "source": [
        "plt.plot(history.history['accuracy'], label='train acc')\n",
        "plt.plot(history.history['val_accuracy'], label='val acc')\n",
        "plt.title(\"Точность по эпохам\")\n",
        "plt.xlabel(\"Эпоха\")\n",
        "plt.ylabel(\"Accuracy\")\n",
        "plt.legend()\n",
        "plt.grid()\n",
        "plt.show()\n",
        "# На этом моменте я заметил, что сеть переобучается. Попробовал уменьшить learning rate — не помогло."
      ],
      "metadata": {
        "colab": {
          "base_uri": "https://localhost:8080/",
          "height": 472
        },
        "id": "WHVNmq6YpRal",
        "outputId": "70bb46ae-71e5-4e69-b877-f861125c2249"
      },
      "execution_count": 47,
      "outputs": [
        {
          "output_type": "display_data",
          "data": {
            "text/plain": [
              "<Figure size 640x480 with 1 Axes>"
            ],
            "image/png": "[encoded data removed]"
          },
          "metadata": {}
        }
      ]
    },
    {
      "cell_type": "markdown",
      "source": [
        "Видно, что модель не переобучается, и точность стабилизируется около 89%\n"
      ],
      "metadata": {
        "id": "JkzP8ixvylyt"
      }
    },
    {
      "cell_type": "code",
      "source": [
        "wrong = np.where(val_preds != y_val)[0]\n",
        "fig, axes = plt.subplots(1, 5, figsize=(12, 3))\n",
        "for i, ax in enumerate(axes):\n",
        "    img = X_val[wrong[i]].reshape(28, 28)\n",
        "    ax.imshow(img, cmap=\"gray\")\n",
        "    ax.set_title(f\"True: {y_val[wrong[i]]}, Pred: {val_preds[wrong[i]]}\")\n",
        "    ax.axis(\"off\")"
      ],
      "metadata": {
        "colab": {
          "base_uri": "https://localhost:8080/",
          "height": 219
        },
        "id": "_iCIcNz0CAyV",
        "outputId": "7a65e62f-c7d5-4f1b-983f-a84a5ea879ab"
      },
      "execution_count": 48,
      "outputs": [
        {
          "output_type": "display_data",
          "data": {
            "text/plain": [
              "<Figure size 1200x300 with 5 Axes>"
            ],
            "image/png": "[encoded data removed]"
          },
          "metadata": {}
        }
      ]
    },
    {
      "cell_type": "markdown",
      "source": [
        "Картинки, на которых модель ошиблась\n",
        "\n",
        "\n",
        "Надписи True Pred позволяют визуально понять, что было сложно различить\n",
        "\n"
      ],
      "metadata": {
        "id": "P9CCZe15zTKg"
      }
    },
    {
      "cell_type": "markdown",
      "source": [
        "---\n",
        "submission\n",
        "--\n",
        "---"
      ],
      "metadata": {
        "id": "5C3fepDd90DF"
      }
    },
    {
      "cell_type": "code",
      "source": [
        "test_preds = model.predict(X_test).argmax(axis=1)\n",
        "\n",
        "submission = sample_submission.copy()\n",
        "submission[\"label\"] = test_preds\n",
        "submission.to_csv(\"submission.csv\", index=False)"
      ],
      "metadata": {
        "colab": {
          "base_uri": "https://localhost:8080/"
        },
        "id": "lOnuX4WwB_RB",
        "outputId": "7b791979-7673-47d4-ed17-d46396f38558"
      },
      "execution_count": 49,
      "outputs": [
        {
          "output_type": "stream",
          "name": "stdout",
          "text": [
            "\u001b[1m313/313\u001b[0m \u001b[32m━━━━━━━━━━━━━━━━━━━━\u001b[0m\u001b[37m\u001b[0m \u001b[1m3s\u001b[0m 11ms/step\n"
          ]
        }
      ]
    },
    {
      "cell_type": "markdown",
      "source": [
        "![Deep.jpg](data:image/jpeg;base64,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)"
      ],
      "metadata": {
        "id": "-IFKsw_J974z"
      }
    }
  ]
}