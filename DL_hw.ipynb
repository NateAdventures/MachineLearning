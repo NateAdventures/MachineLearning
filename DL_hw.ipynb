{
  "metadata": {
    "kernelspec": {
      "name": "python3",
      "display_name": "Python 3",
      "language": "python"
    },
    "language_info": {
      "name": "python",
      "version": "3.11.11",
      "mimetype": "text/x-python",
      "codemirror_mode": {
        "name": "ipython",
        "version": 3
      },
      "pygments_lexer": "ipython3",
      "nbconvert_exporter": "python",
      "file_extension": ".py"
    },
    "colab": {
      "provenance": []
    },
    "accelerator": "GPU",
    "kaggle": {
      "accelerator": "nvidiaTeslaT4",
      "dataSources": [
        {
          "sourceId": 99580,
          "databundleVersionId": 11903780,
          "sourceType": "competition"
        }
      ],
      "dockerImageVersionId": 31011,
      "isInternetEnabled": true,
      "language": "python",
      "sourceType": "notebook",
      "isGpuEnabled": true
    }
  },
  "nbformat_minor": 0,
  "nbformat": 4,
  "cells": [
    {
      "source": [
        "# IMPORTANT: SOME KAGGLE DATA SOURCES ARE PRIVATE\n",
        "# RUN THIS CELL IN ORDER TO IMPORT YOUR KAGGLE DATA SOURCES.\n",
        "import kagglehub\n",
        "kagglehub.login()\n"
      ],
      "metadata": {
        "id": "Nyo1VKbZ2muu"
      },
      "cell_type": "code",
      "outputs": [],
      "execution_count": null
    },
    {
      "source": [
        "# IMPORTANT: RUN THIS CELL IN ORDER TO IMPORT YOUR KAGGLE DATA SOURCES,\n",
        "# THEN FEEL FREE TO DELETE THIS CELL.\n",
        "# NOTE: THIS NOTEBOOK ENVIRONMENT DIFFERS FROM KAGGLE'S PYTHON\n",
        "# ENVIRONMENT SO THERE MAY BE MISSING LIBRARIES USED BY YOUR\n",
        "# NOTEBOOK.\n",
        "\n",
        "dl2025miptml_path = kagglehub.competition_download('dl2025miptml')\n",
        "\n",
        "print('Data source import complete.')\n"
      ],
      "metadata": {
        "id": "XR1DQX7z2muy"
      },
      "cell_type": "code",
      "outputs": [],
      "execution_count": null
    },
    {
      "cell_type": "markdown",
      "source": [
        "Импортируем необходимые библиотеки"
      ],
      "metadata": {
        "id": "dCw47V7p2muz"
      }
    },
    {
      "cell_type": "code",
      "source": [
        "import numpy as np\n",
        "from sklearn.metrics import accuracy_score\n",
        "from matplotlib import pyplot as plt\n",
        "%matplotlib inline\n",
        "import tensorflow as tf\n",
        "import tensorflow.keras as keras\n",
        "import tensorflow.keras.models as M\n",
        "import tensorflow.keras.layers as L\n",
        "import tensorflow.keras.backend as K\n",
        "import pandas as pd\n",
        "from sklearn.model_selection import train_test_split\n"
      ],
      "metadata": {
        "execution": {
          "iopub.status.busy": "2025-05-10T20:15:12.381611Z",
          "iopub.execute_input": "2025-05-10T20:15:12.382385Z",
          "iopub.status.idle": "2025-05-10T20:15:12.389543Z",
          "shell.execute_reply.started": "2025-05-10T20:15:12.382353Z",
          "shell.execute_reply": "2025-05-10T20:15:12.388732Z"
        },
        "id": "xtgpb91EbkJJ",
        "trusted": true
      },
      "outputs": [],
      "execution_count": null
    },
    {
      "cell_type": "markdown",
      "source": [
        "# Загрузим данные\n",
        "\n",
        "Классы:\n",
        "```\n",
        "0 T-shirt/top\n",
        "1 Trouser\n",
        "2 Pullover\n",
        "3 Dress\n",
        "4 Coat\n",
        "5 Sandal\n",
        "6 Shirt\n",
        "7 Sneaker\n",
        "8 Bag\n",
        "9 Ankle boot\n",
        "```"
      ],
      "metadata": {
        "id": "bpgb9XRbbkJM"
      }
    },
    {
      "cell_type": "code",
      "source": [
        "base_dir = '/kaggle/input/dl2025miptml/fashion-mnist-testn'\n",
        "# base_dir = 'data/fashion-mnist-testn'\n",
        "out_dir = '/kaggle/working'"
      ],
      "metadata": {
        "trusted": true,
        "execution": {
          "iopub.status.busy": "2025-05-10T20:15:12.391004Z",
          "iopub.execute_input": "2025-05-10T20:15:12.391297Z",
          "iopub.status.idle": "2025-05-10T20:15:12.408451Z",
          "shell.execute_reply.started": "2025-05-10T20:15:12.391269Z",
          "shell.execute_reply": "2025-05-10T20:15:12.407644Z"
        },
        "id": "59rnAYKc2mu1"
      },
      "outputs": [],
      "execution_count": null
    },
    {
      "cell_type": "code",
      "source": [
        "df = pd.read_csv(f'{base_dir}/fmnist_train.csv')\n",
        "\n",
        "df.info()"
      ],
      "metadata": {
        "execution": {
          "iopub.status.busy": "2025-05-10T20:15:12.409754Z",
          "iopub.execute_input": "2025-05-10T20:15:12.410062Z",
          "iopub.status.idle": "2025-05-10T20:15:13.513307Z",
          "shell.execute_reply.started": "2025-05-10T20:15:12.41004Z",
          "shell.execute_reply": "2025-05-10T20:15:13.512406Z"
        },
        "trusted": true,
        "id": "H5Kef_UP2mu2"
      },
      "outputs": [],
      "execution_count": null
    },
    {
      "cell_type": "code",
      "source": [
        "df.head()"
      ],
      "metadata": {
        "execution": {
          "iopub.status.busy": "2025-05-10T20:15:13.515072Z",
          "iopub.execute_input": "2025-05-10T20:15:13.515477Z",
          "iopub.status.idle": "2025-05-10T20:15:13.53386Z",
          "shell.execute_reply.started": "2025-05-10T20:15:13.51545Z",
          "shell.execute_reply": "2025-05-10T20:15:13.532792Z"
        },
        "trusted": true,
        "id": "zJ_1cCuW2mu2"
      },
      "outputs": [],
      "execution_count": null
    },
    {
      "cell_type": "code",
      "source": [
        "# Подсчёт строк, в которых есть хотя бы один пропуск\n",
        "rows_with_nulls = df.isnull().any(axis=1).sum()\n",
        "print(rows_with_nulls)  # Выведет количество строк с пропусками"
      ],
      "metadata": {
        "execution": {
          "iopub.status.busy": "2025-05-10T20:15:13.534819Z",
          "iopub.execute_input": "2025-05-10T20:15:13.535113Z",
          "iopub.status.idle": "2025-05-10T20:15:13.572751Z",
          "shell.execute_reply.started": "2025-05-10T20:15:13.53509Z",
          "shell.execute_reply": "2025-05-10T20:15:13.571848Z"
        },
        "trusted": true,
        "id": "Jq91OifK2mu2"
      },
      "outputs": [],
      "execution_count": null
    },
    {
      "cell_type": "markdown",
      "source": [
        "У нас есть одна строка (картинка) с пропусками - просто удалим ее"
      ],
      "metadata": {
        "id": "mngGW30T2mu3"
      }
    },
    {
      "cell_type": "code",
      "source": [
        "df = df.dropna()\n",
        "df.shape"
      ],
      "metadata": {
        "trusted": true,
        "execution": {
          "iopub.status.busy": "2025-05-10T20:15:13.574894Z",
          "iopub.execute_input": "2025-05-10T20:15:13.575572Z",
          "iopub.status.idle": "2025-05-10T20:15:13.637393Z",
          "shell.execute_reply.started": "2025-05-10T20:15:13.575522Z",
          "shell.execute_reply": "2025-05-10T20:15:13.636633Z"
        },
        "id": "4kFn5gnO2mu3"
      },
      "outputs": [],
      "execution_count": null
    },
    {
      "cell_type": "markdown",
      "source": [
        "Оценим сбалансированность данных по меткам"
      ],
      "metadata": {
        "id": "ZVszaltP2mu3"
      }
    },
    {
      "cell_type": "code",
      "source": [
        "df['label'].value_counts()"
      ],
      "metadata": {
        "trusted": true,
        "execution": {
          "iopub.status.busy": "2025-05-10T20:15:13.638221Z",
          "iopub.execute_input": "2025-05-10T20:15:13.638555Z",
          "iopub.status.idle": "2025-05-10T20:15:13.645763Z",
          "shell.execute_reply.started": "2025-05-10T20:15:13.638535Z",
          "shell.execute_reply": "2025-05-10T20:15:13.644725Z"
        },
        "id": "Kf04wNDr2mu4"
      },
      "outputs": [],
      "execution_count": null
    },
    {
      "cell_type": "markdown",
      "source": [
        "Видим, что данные не сильно но разбалансированы - будем делить датасет на тестовый и валидационный с учетом стратификации"
      ],
      "metadata": {
        "id": "tZAvPvfE2mu4"
      }
    },
    {
      "cell_type": "code",
      "source": [
        "# Загружаем данные (признаки X и целевую переменную y)\n",
        "X = df.drop(columns=['label', 'Id'])  # Все колонки, кроме целевой и Id\n",
        "y = df['label']                # Целевая переменная\n",
        "\n",
        "# Разделяем данные (70% train, 30% validation)\n",
        "x_train, x_val, y_train, y_val = train_test_split(\n",
        "    X, y,\n",
        "    test_size=0.3,        # Доля валидационной выборки (20%)\n",
        "    random_state=11,      # Фиксируем случайность для воспроизводимости\n",
        "    stratify=y           # Сохраняет распределение классов (для классификации)\n",
        ")\n"
      ],
      "metadata": {
        "id": "urm1aZJwjQkC",
        "trusted": true,
        "execution": {
          "iopub.status.busy": "2025-05-10T20:15:13.646597Z",
          "iopub.execute_input": "2025-05-10T20:15:13.646835Z",
          "iopub.status.idle": "2025-05-10T20:15:13.758378Z",
          "shell.execute_reply.started": "2025-05-10T20:15:13.646817Z",
          "shell.execute_reply": "2025-05-10T20:15:13.757768Z"
        }
      },
      "outputs": [],
      "execution_count": null
    },
    {
      "cell_type": "code",
      "source": [
        "print(x_train.shape)\n",
        "print(x_val.shape)\n",
        "print (y_train[:10])\n",
        "print (y_val[:10])"
      ],
      "metadata": {
        "id": "JXxm8f9Dupqb",
        "trusted": true,
        "execution": {
          "iopub.status.busy": "2025-05-10T20:15:13.759238Z",
          "iopub.execute_input": "2025-05-10T20:15:13.759542Z",
          "iopub.status.idle": "2025-05-10T20:15:13.764774Z",
          "shell.execute_reply.started": "2025-05-10T20:15:13.759506Z",
          "shell.execute_reply": "2025-05-10T20:15:13.764003Z"
        }
      },
      "outputs": [],
      "execution_count": null
    },
    {
      "cell_type": "markdown",
      "source": [
        "Переведем датафрейм в нампай массив в ожидаемом моделью виде, представив признаки в виде матрицы 28*28"
      ],
      "metadata": {
        "id": "K5CS-yW-2mu4"
      }
    },
    {
      "cell_type": "code",
      "source": [
        "x_train = x_train.to_numpy().reshape(-1, 28, 28)\n",
        "x_val = x_val.to_numpy().reshape(-1, 28, 28)\n",
        "print(x_train.shape)\n",
        "print(x_val.shape)"
      ],
      "metadata": {
        "trusted": true,
        "execution": {
          "iopub.status.busy": "2025-05-10T20:15:13.76573Z",
          "iopub.execute_input": "2025-05-10T20:15:13.766012Z",
          "iopub.status.idle": "2025-05-10T20:15:13.812623Z",
          "shell.execute_reply.started": "2025-05-10T20:15:13.765989Z",
          "shell.execute_reply": "2025-05-10T20:15:13.811815Z"
        },
        "id": "4D-Ba_it2mu5"
      },
      "outputs": [],
      "execution_count": null
    },
    {
      "cell_type": "code",
      "source": [
        "# one-hot encode для ответов\n",
        "y_train_oh = keras.utils.to_categorical(y_train, 10)\n",
        "y_val_oh = keras.utils.to_categorical(y_val, 10)\n",
        "\n",
        "print(y_train_oh.shape)\n",
        "print(y_train_oh[:5], y_train[:5])"
      ],
      "metadata": {
        "id": "Ntmlh71gbkJU",
        "trusted": true,
        "execution": {
          "iopub.status.busy": "2025-05-10T20:15:13.813377Z",
          "iopub.execute_input": "2025-05-10T20:15:13.813631Z",
          "iopub.status.idle": "2025-05-10T20:15:13.820971Z",
          "shell.execute_reply.started": "2025-05-10T20:15:13.813605Z",
          "shell.execute_reply": "2025-05-10T20:15:13.82002Z"
        }
      },
      "outputs": [],
      "execution_count": null
    },
    {
      "cell_type": "markdown",
      "source": [
        "# Собираем модель"
      ],
      "metadata": {
        "id": "sFdgl0owpaff"
      }
    },
    {
      "cell_type": "markdown",
      "source": [
        "Будем минимизировать кросс-энтропию."
      ],
      "metadata": {
        "id": "2br7Y727oGH5"
      }
    },
    {
      "cell_type": "code",
      "source": [
        "K.clear_session()\n",
        "\n",
        "model = M.Sequential()\n",
        "model.add(L.Conv2D(32, kernel_size=5, strides=1, padding='same', input_shape=(28, 28, 1)))\n",
        "model.add(L.MaxPool2D())\n",
        "model.add(L.Conv2D(64, kernel_size=5, strides=1, padding='same'))\n",
        "model.add(L.MaxPool2D())\n",
        "model.add(L.Conv2D(128, kernel_size=5, strides=1, padding='same'))\n",
        "model.add(L.MaxPool2D())\n",
        "model.add(L.Conv2D(256, kernel_size=5, strides=1, padding='same'))\n",
        "model.add(L.MaxPool2D())\n",
        "model.add(L.Conv2D(512, kernel_size=5, strides=1, padding='same'))\n",
        "model.add(L.Flatten())\n",
        "model.add(L.Dense(10, activation='softmax'))"
      ],
      "metadata": {
        "id": "f75e-QsypY4a",
        "trusted": true,
        "execution": {
          "iopub.status.busy": "2025-05-10T20:15:13.823352Z",
          "iopub.execute_input": "2025-05-10T20:15:13.823642Z",
          "iopub.status.idle": "2025-05-10T20:15:14.299365Z",
          "shell.execute_reply.started": "2025-05-10T20:15:13.823618Z",
          "shell.execute_reply": "2025-05-10T20:15:14.298639Z"
        }
      },
      "outputs": [],
      "execution_count": null
    },
    {
      "cell_type": "code",
      "source": [
        "model.summary()"
      ],
      "metadata": {
        "id": "oAyTk_FAbkJZ",
        "trusted": true,
        "execution": {
          "iopub.status.busy": "2025-05-10T20:15:14.300095Z",
          "iopub.execute_input": "2025-05-10T20:15:14.30034Z",
          "iopub.status.idle": "2025-05-10T20:15:14.320211Z",
          "shell.execute_reply.started": "2025-05-10T20:15:14.300323Z",
          "shell.execute_reply": "2025-05-10T20:15:14.319453Z"
        }
      },
      "outputs": [],
      "execution_count": null
    },
    {
      "cell_type": "markdown",
      "source": [
        " Итак мы будем обучать модель, у которой свыше 4 млн параметров"
      ],
      "metadata": {
        "id": "-F-YcYMZ2mu6"
      }
    },
    {
      "cell_type": "code",
      "source": [
        "model.compile(\n",
        "    loss='categorical_crossentropy',  # минимизируем кросс-энтропию\n",
        "    optimizer='adam',\n",
        "    metrics=['accuracy']  # выводим процент правильных ответов\n",
        ")"
      ],
      "metadata": {
        "id": "05_NRSnWbkJc",
        "trusted": true,
        "execution": {
          "iopub.status.busy": "2025-05-10T20:15:14.321069Z",
          "iopub.execute_input": "2025-05-10T20:15:14.321308Z",
          "iopub.status.idle": "2025-05-10T20:15:14.33384Z",
          "shell.execute_reply.started": "2025-05-10T20:15:14.32128Z",
          "shell.execute_reply": "2025-05-10T20:15:14.333129Z"
        }
      },
      "outputs": [],
      "execution_count": null
    },
    {
      "cell_type": "code",
      "source": [
        "# центрируем и нормируем, так сети будет проще учиться\n",
        "x_train_float = x_train.astype(np.float32) / 255 - 0.5\n",
        "x_val_float = x_val.astype(np.float32) / 255 - 0.5"
      ],
      "metadata": {
        "id": "Tj7JoTt3rghC",
        "trusted": true,
        "execution": {
          "iopub.status.busy": "2025-05-10T20:15:14.334719Z",
          "iopub.execute_input": "2025-05-10T20:15:14.33505Z",
          "iopub.status.idle": "2025-05-10T20:15:14.376337Z",
          "shell.execute_reply.started": "2025-05-10T20:15:14.335026Z",
          "shell.execute_reply": "2025-05-10T20:15:14.375703Z"
        }
      },
      "outputs": [],
      "execution_count": null
    },
    {
      "cell_type": "markdown",
      "source": [
        "Обучаем модель (количество эпох получено экспериментальным путем по лучшему показателю на валидационной выборке"
      ],
      "metadata": {
        "id": "e55rQ9Xa2mu6"
      }
    },
    {
      "cell_type": "code",
      "source": [
        "model.fit(\n",
        "    x_train_float[:, :, :, np.newaxis],\n",
        "    y_train_oh,\n",
        "    batch_size=32,\n",
        "    epochs=5,\n",
        "    validation_data=(x_val_float[:, :, :, np.newaxis], y_val_oh)\n",
        ")"
      ],
      "metadata": {
        "id": "0c6R3wKWbkJf",
        "trusted": true,
        "execution": {
          "iopub.status.busy": "2025-05-10T20:15:14.377108Z",
          "iopub.execute_input": "2025-05-10T20:15:14.377345Z",
          "iopub.status.idle": "2025-05-10T20:15:32.495371Z",
          "shell.execute_reply.started": "2025-05-10T20:15:14.37732Z",
          "shell.execute_reply": "2025-05-10T20:15:32.494751Z"
        }
      },
      "outputs": [],
      "execution_count": null
    },
    {
      "cell_type": "markdown",
      "source": [
        "Загружаем тестовый датасет"
      ],
      "metadata": {
        "id": "jkp5Zv0o2mu6"
      }
    },
    {
      "cell_type": "code",
      "source": [
        "test_df = pd.read_csv(f'{base_dir}/fmnist_test.csv')\n",
        "test_df.info()"
      ],
      "metadata": {
        "id": "EXK2Y6aZYQUW",
        "trusted": true,
        "execution": {
          "iopub.status.busy": "2025-05-10T20:15:32.496247Z",
          "iopub.execute_input": "2025-05-10T20:15:32.49655Z",
          "iopub.status.idle": "2025-05-10T20:15:32.95477Z",
          "shell.execute_reply.started": "2025-05-10T20:15:32.496521Z",
          "shell.execute_reply": "2025-05-10T20:15:32.953884Z"
        }
      },
      "outputs": [],
      "execution_count": null
    },
    {
      "cell_type": "markdown",
      "source": [
        "Приводим к нужному для работы виду"
      ],
      "metadata": {
        "id": "AiNwSK_f2mu6"
      }
    },
    {
      "cell_type": "code",
      "source": [
        "test_np = test_df.drop(columns=['Id']).to_numpy().reshape(-1, 28, 28)\n",
        "ids = test_df['Id'].to_numpy()"
      ],
      "metadata": {
        "trusted": true,
        "execution": {
          "iopub.status.busy": "2025-05-10T20:15:32.955734Z",
          "iopub.execute_input": "2025-05-10T20:15:32.956043Z",
          "iopub.status.idle": "2025-05-10T20:15:32.975132Z",
          "shell.execute_reply.started": "2025-05-10T20:15:32.956016Z",
          "shell.execute_reply": "2025-05-10T20:15:32.974474Z"
        },
        "id": "nAC8P-BS2mu7"
      },
      "outputs": [],
      "execution_count": null
    },
    {
      "cell_type": "markdown",
      "source": [
        "Делаем предсказание и выбираем одну метку"
      ],
      "metadata": {
        "id": "B_rC57xy2mu7"
      }
    },
    {
      "cell_type": "code",
      "source": [
        "res_raw = model.predict(test_np)\n",
        "res = tf.argmax(res_raw, axis=1)"
      ],
      "metadata": {
        "trusted": true,
        "execution": {
          "iopub.status.busy": "2025-05-10T20:15:32.975968Z",
          "iopub.execute_input": "2025-05-10T20:15:32.976312Z",
          "iopub.status.idle": "2025-05-10T20:15:34.525779Z",
          "shell.execute_reply.started": "2025-05-10T20:15:32.976283Z",
          "shell.execute_reply": "2025-05-10T20:15:34.525162Z"
        },
        "id": "zsZnGPTg2mu7"
      },
      "outputs": [],
      "execution_count": null
    },
    {
      "cell_type": "markdown",
      "source": [
        "Готовим итоговый датафрейм"
      ],
      "metadata": {
        "id": "rWmf317Z2mu7"
      }
    },
    {
      "cell_type": "code",
      "source": [
        "res_df = pd.DataFrame({\n",
        "    'Id': ids,\n",
        "    'label': res.numpy()\n",
        "})\n",
        "res_df.head()"
      ],
      "metadata": {
        "trusted": true,
        "execution": {
          "iopub.status.busy": "2025-05-10T20:15:34.52665Z",
          "iopub.execute_input": "2025-05-10T20:15:34.527227Z",
          "iopub.status.idle": "2025-05-10T20:15:34.535226Z",
          "shell.execute_reply.started": "2025-05-10T20:15:34.527206Z",
          "shell.execute_reply": "2025-05-10T20:15:34.534272Z"
        },
        "id": "bQ5bz2by2mu7"
      },
      "outputs": [],
      "execution_count": null
    },
    {
      "cell_type": "markdown",
      "source": [
        "Записываем датафрейм в файл"
      ],
      "metadata": {
        "id": "7KNuVCHJ2mu7"
      }
    },
    {
      "cell_type": "code",
      "source": [
        "res_df.to_csv(f'{out_dir}/submission.csv', index=False)"
      ],
      "metadata": {
        "trusted": true,
        "execution": {
          "iopub.status.busy": "2025-05-10T20:15:34.536144Z",
          "iopub.execute_input": "2025-05-10T20:15:34.536608Z",
          "iopub.status.idle": "2025-05-10T20:15:34.555011Z",
          "shell.execute_reply.started": "2025-05-10T20:15:34.53658Z",
          "shell.execute_reply": "2025-05-10T20:15:34.554298Z"
        },
        "id": "2hEPzqmo2mu7"
      },
      "outputs": [],
      "execution_count": null
    }
  ]
}